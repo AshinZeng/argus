{
 "cells": [
  {
   "cell_type": "markdown",
   "metadata": {},
   "source": [
    "# Quick start"
   ]
  },
  {
   "cell_type": "markdown",
   "metadata": {},
   "source": [
    "## Simple example"
   ]
  },
  {
   "cell_type": "markdown",
   "metadata": {},
   "source": [
    "Define a PyTorch model:"
   ]
  },
  {
   "cell_type": "code",
   "execution_count": null,
   "metadata": {},
   "outputs": [],
   "source": [
    "import torch\n",
    "from torch import nn\n",
    "import torch.nn.functional as F\n",
    "\n",
    "class Net(nn.Module):\n",
    "    def __init__(self, n_classes, p_dropout=0.5):\n",
    "        super().__init__()\n",
    "        self.conv1 = nn.Conv2d(1, 10, kernel_size=5)\n",
    "        self.conv2 = nn.Conv2d(10, 20, kernel_size=5)\n",
    "        self.conv2_drop = nn.Dropout2d(p=p_dropout)\n",
    "        self.fc1 = nn.Linear(320, 50)\n",
    "        self.fc2 = nn.Linear(50, n_classes)\n",
    "\n",
    "    def forward(self, x):\n",
    "        x = F.relu(F.max_pool2d(self.conv1(x), 2))\n",
    "        x = F.relu(F.max_pool2d(self.conv2_drop(self.conv2(x)), 2))\n",
    "        x = x.view(-1, 320)\n",
    "        x = F.relu(self.fc1(x))\n",
    "        x = F.dropout(x, training=self.training)\n",
    "        x = self.fc2(x)\n",
    "        return x"
   ]
  },
  {
   "cell_type": "markdown",
   "metadata": {},
   "source": [
    "Define an ``argus.Model`` with ``nn_module``, ``optimizer``, ``loss`` attributes. Each value must be a class\n",
    "or function that returns object (``torch.nn.Module`` for loss and nn_module, ``torch.optim.Optimizer`` for optimizer)."
   ]
  },
  {
   "cell_type": "code",
   "execution_count": null,
   "metadata": {},
   "outputs": [],
   "source": [
    "from argus import Model\n",
    "\n",
    "class MnistModel(Model):\n",
    "    nn_module = Net\n",
    "    optimizer = torch.optim.SGD\n",
    "    loss = torch.nn.CrossEntropyLoss"
   ]
  },
  {
   "cell_type": "markdown",
   "metadata": {},
   "source": [
    "Create an instance of ``MnistModel`` with the specified parameters. Net will be initialized like ``Net(n_classes=10, p_dropout=0.1)``. The same logic is applied for the optimizer ``torch.optim.SGD(lr=0.01)``. Loss will be created without any arguments ``torch.nn.CrossEntropyLoss()``. The model will use the CPU."
   ]
  },
  {
   "cell_type": "code",
   "execution_count": null,
   "metadata": {},
   "outputs": [],
   "source": [
    "params = {\n",
    "    'nn_module': {'n_classes': 10, 'p_dropout': 0.1},\n",
    "    'optimizer': {'lr': 0.01},\n",
    "    'device': 'cpu'\n",
    "}\n",
    "\n",
    "model = MnistModel(params)"
   ]
  },
  {
   "cell_type": "markdown",
   "metadata": {},
   "source": [
    "Download MNIST dataset. Create validation and training PyTorch data loaders."
   ]
  },
  {
   "cell_type": "code",
   "execution_count": null,
   "metadata": {},
   "outputs": [],
   "source": [
    "from torch.utils.data import DataLoader\n",
    "from torchvision.transforms import Compose, ToTensor, Normalize\n",
    "from torchvision.datasets import MNIST\n",
    "\n",
    "data_transform = Compose([ToTensor(), Normalize((0.1307,), (0.3081,))])\n",
    "train_mnist_dataset = MNIST(download=True, root=\"mnist_data\",\n",
    "                            transform=data_transform, train=True)\n",
    "val_mnist_dataset = MNIST(download=False, root=\"mnist_data\",\n",
    "                          transform=data_transform, train=False)\n",
    "train_loader = DataLoader(train_mnist_dataset,\n",
    "                          batch_size=64, shuffle=True)\n",
    "val_loader = DataLoader(val_mnist_dataset,\n",
    "                        batch_size=128, shuffle=False)"
   ]
  },
  {
   "cell_type": "markdown",
   "metadata": {},
   "source": [
    "Define some callbacks and start training the model for 50 epochs."
   ]
  },
  {
   "cell_type": "code",
   "execution_count": null,
   "metadata": {},
   "outputs": [],
   "source": [
    "from argus.callbacks import MonitorCheckpoint, EarlyStopping, ReduceLROnPlateau\n",
    "\n",
    "callbacks = [\n",
    "    MonitorCheckpoint(dir_path='mnist', monitor='val_accuracy', max_saves=3),\n",
    "    EarlyStopping(monitor='val_accuracy', patience=9),\n",
    "    ReduceLROnPlateau(monitor='val_accuracy', factor=0.5, patience=3)\n",
    "]\n",
    "\n",
    "model.fit(train_loader,\n",
    "          val_loader=val_loader,\n",
    "          num_epochs=50,\n",
    "          metrics=['accuracy'],\n",
    "          callbacks=callbacks)"
   ]
  },
  {
   "cell_type": "markdown",
   "metadata": {},
   "source": [
    "Load the model from the best checkpoint."
   ]
  },
  {
   "cell_type": "code",
   "execution_count": null,
   "metadata": {},
   "outputs": [],
   "source": [
    "from pathlib import Path\n",
    "from argus import load_model\n",
    "\n",
    "del model\n",
    "model_path = Path(\"mnist/\").glob(\"*.pth\")\n",
    "model_path = sorted(model_path)[-1]\n",
    "print(f\"Load model: {model_path}\")\n",
    "model = load_model(model_path)\n",
    "model"
   ]
  },
  {
   "cell_type": "markdown",
   "metadata": {},
   "source": [
    "## More flexibility"
   ]
  },
  {
   "cell_type": "markdown",
   "metadata": {},
   "source": [
    "Argus can help you simplify the experiments with different architectures, losses, and optimizers. Let's define an ``argus.Model`` with two models via a dictionary. If you want to use PyTorch losses and optimizers, it's not necessary to define them in the argus model."
   ]
  },
  {
   "cell_type": "code",
   "execution_count": null,
   "metadata": {},
   "outputs": [],
   "source": [
    "from torchvision.models import resnet18\n",
    "\n",
    "class FlexModel(Model):\n",
    "    nn_module = {\n",
    "        'net': Net,\n",
    "        'resnet18': resnet18\n",
    "    }"
   ]
  },
  {
   "cell_type": "markdown",
   "metadata": {},
   "source": [
    "Create a model instance. Parameters for nn_module is a tuple where the first element is a name, second is arguments.\n",
    "PyTorch losses and optimizers can be selected by a string with a class name."
   ]
  },
  {
   "cell_type": "code",
   "execution_count": null,
   "metadata": {},
   "outputs": [],
   "source": [
    "params = {\n",
    "    'nn_module': ('resnet18', {\n",
    "        'pretrained': False, \n",
    "        'num_classes': 1\n",
    "    }),\n",
    "    'optimizer': ('Adam', {'lr': 0.01}),\n",
    "    'loss': 'CrossEntropyLoss',\n",
    "    'device': 'cuda'\n",
    "}\n",
    "\n",
    "model = FlexModel(params)"
   ]
  },
  {
   "cell_type": "markdown",
   "metadata": {},
   "source": [
    "Argus allows managing different combinations of pipeline."
   ]
  },
  {
   "cell_type": "code",
   "execution_count": null,
   "metadata": {},
   "outputs": [],
   "source": [
    "class MoreFlexModel(Model):\n",
    "    nn_module = {\n",
    "        'net': Net,\n",
    "        'resnet18': resnet18\n",
    "    }\n",
    "    optimizer = {\n",
    "        'SGD': torch.optim.SGD,\n",
    "        'adam_w': torch.optim.AdamW\n",
    "    }\n",
    "    loss = {\n",
    "        'BCE': nn.BCEWithLogitsLoss,\n",
    "        'cross_entropy': nn.CrossEntropyLoss,\n",
    "        'nll': nn.NLLLoss\n",
    "    }\n",
    "    prediction_transform = {\n",
    "        'sigmoid': nn.Sigmoid,\n",
    "        'Softmax': nn.Softmax\n",
    "    }\n",
    "\n",
    "\n",
    "params = {\n",
    "    'nn_module': ('resnet18', {\n",
    "        'pretrained': False, \n",
    "        'num_classes': 1\n",
    "    }),\n",
    "    'optimizer': ('adam_w', {\n",
    "        'lr': 0.01, \n",
    "        'weight_decay': 0.042\n",
    "    }),\n",
    "    'loss': ('BCE', {'reduction': 'sum'}),\n",
    "    'prediction_transform': 'sigmoid',\n",
    "    'device': 'cuda'\n",
    "}\n",
    "\n",
    "model = MoreFlexModel(params)"
   ]
  },
  {
   "cell_type": "markdown",
   "metadata": {},
   "source": [
    "If you need more flexibility you can:\n",
    "\n",
    "* Override methods of `argus.Model`. For example `argus.Model.train_step` and `argus.Model.val_step`.\n",
    "* Create custom `argus.callbacks.Callback`.\n",
    "* Use custom `argus.metrics.Metric`."
   ]
  },
  {
   "cell_type": "code",
   "execution_count": null,
   "metadata": {},
   "outputs": [],
   "source": []
  }
 ],
 "metadata": {
  "kernelspec": {
   "display_name": "Python 3",
   "language": "python",
   "name": "python3"
  },
  "language_info": {
   "codemirror_mode": {
    "name": "ipython",
    "version": 3
   },
   "file_extension": ".py",
   "mimetype": "text/x-python",
   "name": "python",
   "nbconvert_exporter": "python",
   "pygments_lexer": "ipython3",
   "version": "3.6.9"
  }
 },
 "nbformat": 4,
 "nbformat_minor": 2
}
